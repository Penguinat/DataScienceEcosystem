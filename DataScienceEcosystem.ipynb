{
 "cells": [
  {
   "cell_type": "markdown",
   "id": "ef4d5703",
   "metadata": {},
   "source": [
    "# Data Science Tools and Ecosystem"
   ]
  },
  {
   "cell_type": "markdown",
   "id": "ac4f95e7",
   "metadata": {},
   "source": [
    "In this notebook, Data Science Tools and Ecosystem are summarized."
   ]
  },
  {
   "cell_type": "markdown",
   "id": "e890a922",
   "metadata": {},
   "source": [
    "**Objectives:**"
   ]
  },
  {
   "cell_type": "markdown",
   "id": "2cb9ba5a",
   "metadata": {},
   "source": [
    "- Languages in Data Science\n",
    "- Libraries in Data Science\n",
    "- Data Science Tools\n",
    "- Evaluating Arithmetic Expressions in Python"
   ]
  },
  {
   "cell_type": "markdown",
   "id": "cc193194",
   "metadata": {},
   "source": [
    "## Popular Languages Data Scientists use:"
   ]
  },
  {
   "cell_type": "markdown",
   "id": "55271c38",
   "metadata": {},
   "source": [
    "1. Python\n",
    "2. R\n",
    "3. SQL\n",
    "4. Java\n",
    "5. Julia"
   ]
  },
  {
   "cell_type": "markdown",
   "id": "6f964da7",
   "metadata": {},
   "source": [
    "## Popular Libraries Data Scientists use:"
   ]
  },
  {
   "cell_type": "markdown",
   "id": "2ecb33ef",
   "metadata": {},
   "source": [
    "1. TensorFlow\n",
    "2. Pandas\n",
    "3. NumPy\n",
    "4. SciPy\n",
    "5. SciKit-Learn"
   ]
  },
  {
   "cell_type": "markdown",
   "id": "78ae9016",
   "metadata": {},
   "source": [
    "| Data Science Tools |\n",
    "| :---: |\n",
    "| Jupyter Notebook |\n",
    "|    RStudio       |\n",
    "|    VS Code       |\n",
    "\n",
    " "
   ]
  },
  {
   "cell_type": "markdown",
   "id": "cbf924b8",
   "metadata": {},
   "source": [
    "### Examples of evaluating arithmetic expressions in Python:"
   ]
  },
  {
   "cell_type": "markdown",
   "id": "e221e924",
   "metadata": {},
   "source": [
    "Arithmetic expression to mutiply then add integers"
   ]
  },
  {
   "cell_type": "code",
   "execution_count": 1,
   "id": "7713a8d8",
   "metadata": {},
   "outputs": [
    {
     "data": {
      "text/plain": [
       "17"
      ]
     },
     "execution_count": 1,
     "metadata": {},
     "output_type": "execute_result"
    }
   ],
   "source": [
    "(3*4)+5"
   ]
  },
  {
   "cell_type": "markdown",
   "id": "2584e70a",
   "metadata": {},
   "source": [
    "This will convert 200 minutes to hours by diving by 60"
   ]
  },
  {
   "cell_type": "code",
   "execution_count": 2,
   "id": "8a392c29",
   "metadata": {},
   "outputs": [
    {
     "data": {
      "text/plain": [
       "3.3333333333333335"
      ]
     },
     "execution_count": 2,
     "metadata": {},
     "output_type": "execute_result"
    }
   ],
   "source": [
    "200 / 60"
   ]
  },
  {
   "cell_type": "markdown",
   "id": "92b07838",
   "metadata": {},
   "source": [
    "## Author"
   ]
  },
  {
   "cell_type": "markdown",
   "id": "cd06aebd",
   "metadata": {},
   "source": [
    "Om Patel"
   ]
  }
 ],
 "metadata": {
  "kernelspec": {
   "display_name": "Python 3 (ipykernel)",
   "language": "python",
   "name": "python3"
  },
  "language_info": {
   "codemirror_mode": {
    "name": "ipython",
    "version": 3
   },
   "file_extension": ".py",
   "mimetype": "text/x-python",
   "name": "python",
   "nbconvert_exporter": "python",
   "pygments_lexer": "ipython3",
   "version": "3.10.11"
  }
 },
 "nbformat": 4,
 "nbformat_minor": 5
}
